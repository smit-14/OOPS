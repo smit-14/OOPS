{
  "nbformat": 4,
  "nbformat_minor": 0,
  "metadata": {
    "colab": {
      "provenance": []
    },
    "kernelspec": {
      "name": "python3",
      "display_name": "Python 3"
    },
    "language_info": {
      "name": "python"
    }
  },
  "cells": [
    {
      "cell_type": "markdown",
      "source": [
        "**THEORY QUESTIONS**"
      ],
      "metadata": {
        "id": "tcMMK9MNNrgn"
      }
    },
    {
      "cell_type": "markdown",
      "source": [
        "1. What is Object-Oriented Programming (OOP)?\n",
        "- OOP is a programming paradigm based on the concept of objects, which contain data (attributes) and methods (functions) that operate on the data. It promotes modularity, reusability, and scalability.\n",
        "\n",
        "2. What is a class in OOP?\n",
        "- A class is a blueprint or template for creating objects. It defines attributes (variables) and methods (functions) that describe the behavior and properties of objects.\n",
        "\n",
        "3. What is an object in OOP?\n",
        "- An object is an instance of a class. It has its own unique data (attributes) and can perform actions using the methods defined in the class.\n",
        "\n",
        "4. What is the difference between abstraction and encapsulation?\n",
        "- Abstraction hides implementation details and only shows essential features (e.g., using an interface or abstract class).\n",
        "- Encapsulation restricts direct access to data by wrapping it in a class and using access modifiers (public, private, protected).\n",
        "\n",
        "5. What are dunder methods in Python?\n",
        "- Dunder (double underscore) methods, also called magic methods, start and end with __. They enable operator overloading and define object behavior, e.g., __init__() for initialization, __str__() for string representation, and __len__() for length.\n",
        "\n",
        "6. Explain the concept of inheritance in OOP?\n",
        "- Inheritance allows a class (child) to acquire properties and behaviors from another class (parent). This promotes code reuse and hierarchical relationships. Python supports various types of inheritance: single, multiple, multilevel, and hierarchical.\n",
        "\n",
        "7. What is polymorphism in OOP?\n",
        "- Polymorphism allows objects of different classes to be treated as objects of a common superclass. It enables flexibility in code through method overriding (redefining a method in a subclass) and method overloading (same method with different parameters, though not directly supported in Python).\n",
        "\n",
        "8. How is encapsulation achieved in Python?\n",
        "- Encapsulation restricts direct access to class attributes using access modifiers:\n",
        "\n",
        "  - Public (var) – Accessible anywhere.\n",
        "  - Protected (_var) – Accessible within the class and its subclasses.\n",
        "  - Private (__var) – Accessible only within the class (name-mangled to _ClassName__var).\n",
        "\n",
        "9. What is a constructor in Python?\n",
        "- A constructor is a special method (__init__) that is automatically called when an object is created. It initializes object attributes and sets up the initial state of an instance.\n",
        "\n",
        "10. What are class and static methods in Python?\n",
        "- Class Method (@classmethod) – Works with the class instead of an instance, taking cls as a parameter and modifying class-level attributes.\n",
        "- Static Method (@staticmethod) – A function inside a class that does not depend on instance or class attributes, behaving like a regular function within the class.\n",
        "\n",
        "11. What is method overloading in Python?\n",
        "- Method overloading allows multiple methods with the same name but different parameters. However, Python does not support true method overloading like other languages (Java, C++). Instead, it can be achieved using default parameters or variable-length arguments (*args, **kwargs).\n",
        "\n",
        "12. What is method overriding in OOP?\n",
        "- Method overriding occurs when a subclass provides a new implementation of a method already defined in its parent class. It allows modifying or extending the behavior of an inherited method while keeping the same method name.\n",
        "\n",
        "13. What is a property decorator in Python?\n",
        "- A property decorator (@property) allows defining methods that can be accessed like attributes, promoting encapsulation. It is commonly used to create getter, setter, and deleter methods to control access to class attributes.\n",
        "\n",
        "14. Why is polymorphism important in OOP?\n",
        "- Polymorphism allows different classes to use the same method name while providing different implementations. It enhances flexibility, code reusability, and scalability by allowing a single interface to work with multiple data types or objects.\n",
        "\n",
        "15. What is an abstract class in Python?\n",
        "- An abstract class is a class that cannot be instantiated and serves as a blueprint for other classes. It contains at least one abstract method (a method without implementation) and is defined using the ABC module. Subclasses must provide implementations for all abstract methods.\n",
        "\n",
        "16. What are the advantages of OOP?\n",
        "- Object-Oriented Programming (OOP) offers several benefits:\n",
        "\n",
        "  - Modularity – Code is organized into objects and classes, improving structure and readability.\n",
        "  - Reusability – Inheritance allows code reuse, reducing redundancy.\n",
        "  - Encapsulation – Data hiding ensures controlled access and enhances security.\n",
        "  - Polymorphism – The same interface can be used for different data types, improving flexibility.\n",
        "  - Scalability – Code can be easily extended without affecting existing functionality.\n",
        "17. What is the difference between a class variable and an instance variable?\n",
        "- Class Variable – Shared among all instances of a class and defined within the class but outside methods. Changing its value affects all instances.\n",
        "Instance Variable – Unique to each object and defined inside the constructor (__init__). Changing it affects only that specific instance.\n",
        "18. What is multiple inheritance in Python?\n",
        "- Multiple inheritance allows a class to inherit from more than one parent class. This enables the child class to access attributes and methods from multiple sources. However, it can lead to complexity and ambiguity (handled by the Method Resolution Order, MRO).\n",
        "\n",
        "19. Explain the purpose of __str__ and __repr__ methods in Python.\n",
        "- __str__ – Provides a human-readable string representation of an object, used with print() and str().\n",
        "- __repr__ – Returns an official, unambiguous string representation of an object, typically used for debugging and logging. If __str__ is not defined, __repr__ is used as a fallback.\n",
        "\n",
        "20. What is the significance of the super() function in Python?\n",
        "- The super() function allows a subclass to call methods from its parent class without directly referring to the parent’s name. It is commonly used to invoke the parent’s __init__ method, ensuring proper inheritance and reducing redundancy.\n",
        "\n",
        "21. What is the significance of the __del__ method in Python?\n",
        "- The __del__ method is a destructor that is automatically called when an object is about to be destroyed. It is used to release resources like closing database connections or file handles. However, Python's garbage collector usually handles memory management, so explicit use of __del__ is rare.\n",
        "\n",
        "22. What is the difference between @staticmethod and @classmethod in Python?\n",
        "- @staticmethod – A method that belongs to a class but does not access instance (self) or class (cls) attributes. It behaves like a normal function inside a class.\n",
        "- @classmethod – A method that operates on the class level and takes cls as an argument, allowing it to modify class attributes.\n",
        "\n",
        "23. How does polymorphism work in Python with inheritance?\n",
        "- Polymorphism in Python allows objects of different classes to be treated as objects of a common superclass. Inheritance enables method overriding, where a subclass provides a different implementation of a method defined in its parent class. This allows flexibility in using the same method name for different behaviors.\n",
        "\n",
        "24. What is method chaining in Python OOP?\n",
        "- Method chaining allows calling multiple methods on the same object in a single statement. This is achieved by returning self from each method, enabling sequential method calls. It improves code readability and conciseness.\n",
        "\n",
        "25. What is the purpose of the __call__ method in Python?\n",
        "- The __call__ method allows an instance of a class to be invoked like a function. Defining __call__ in a class enables objects to be used as callable functions, making them more flexible and reusable.\n",
        "\n"
      ],
      "metadata": {
        "id": "7N1qwdlxLOX9"
      }
    },
    {
      "cell_type": "markdown",
      "source": [
        "**PRACTICAL QUESTIONS**"
      ],
      "metadata": {
        "id": "-rutksY_N7fb"
      }
    },
    {
      "cell_type": "markdown",
      "source": [
        "1. Create a parent class Animal with a method speak(), and a child class Dog that overrides it."
      ],
      "metadata": {
        "id": "02aOkAxWN_BD"
      }
    },
    {
      "cell_type": "code",
      "source": [
        "class Animal:\n",
        "    def speak(self):\n",
        "        print(\"This animal makes a sound.\")\n",
        "\n",
        "class Dog(Animal):\n",
        "    def speak(self):\n",
        "        print(\"Bark!\")\n",
        "\n",
        "a = Animal()\n",
        "a.speak()\n",
        "\n",
        "d = Dog()\n",
        "d.speak()\n"
      ],
      "metadata": {
        "colab": {
          "base_uri": "https://localhost:8080/"
        },
        "id": "r3PcjsmQN-aT",
        "outputId": "9e4b0b3c-f458-4f46-fff7-a18a8d8a5f23"
      },
      "execution_count": null,
      "outputs": [
        {
          "output_type": "stream",
          "name": "stdout",
          "text": [
            "This animal makes a sound.\n",
            "Bark!\n"
          ]
        }
      ]
    },
    {
      "cell_type": "markdown",
      "source": [
        "2. What is abstraction? Implement it using Shape, Circle, and Rectangle classes."
      ],
      "metadata": {
        "id": "u5KUoMmSOqUo"
      }
    },
    {
      "cell_type": "code",
      "source": [
        "from abc import ABC, abstractmethod\n",
        "\n",
        "class Shape(ABC):\n",
        "    @abstractmethod\n",
        "    def area(self):\n",
        "        pass\n",
        "\n",
        "class Circle(Shape):\n",
        "    def __init__(self, radius):\n",
        "        self.radius = radius\n",
        "\n",
        "    def area(self):\n",
        "        return 3.14 * self.radius ** 2\n",
        "\n",
        "class Rectangle(Shape):\n",
        "    def __init__(self, length, width):\n",
        "        self.length = length\n",
        "        self.width = width\n",
        "\n",
        "    def area(self):\n",
        "        return self.length * self.width\n",
        "\n",
        "c = Circle(5)\n",
        "print(\"Circle Area:\", c.area())\n",
        "\n",
        "r = Rectangle(4, 6)\n",
        "print(\"Rectangle Area:\", r.area())"
      ],
      "metadata": {
        "colab": {
          "base_uri": "https://localhost:8080/"
        },
        "id": "tKczn_dgOVQ6",
        "outputId": "58b0e4fc-f698-4d75-9de8-793da903ff51"
      },
      "execution_count": null,
      "outputs": [
        {
          "output_type": "stream",
          "name": "stdout",
          "text": [
            "Circle Area: 78.5\n",
            "Rectangle Area: 24\n"
          ]
        }
      ]
    },
    {
      "cell_type": "markdown",
      "source": [
        "3. What is multi-level inheritance? Demonstrate with Vehicle, Car, and ElectricCar classes."
      ],
      "metadata": {
        "id": "jWo8pQvZO1PO"
      }
    },
    {
      "cell_type": "code",
      "source": [
        "class Vehicle:\n",
        "    def __init__(self, type):\n",
        "        self.type = type\n",
        "\n",
        "class Car(Vehicle):\n",
        "    def __init__(self, type, brand):\n",
        "        super().__init__(type)\n",
        "        self.brand = brand\n",
        "\n",
        "class ElectricCar(Car):\n",
        "    def __init__(self, type, brand, battery):\n",
        "        super().__init__(type, brand)\n",
        "        self.battery = battery\n",
        "\n",
        "e_car = ElectricCar(\"Sedan\", \"Tesla\", \"100 kWh\")\n",
        "print(f\"Type: {e_car.type}, Brand: {e_car.brand}, Battery: {e_car.battery}\")"
      ],
      "metadata": {
        "colab": {
          "base_uri": "https://localhost:8080/"
        },
        "id": "O8C8n3SgOtTy",
        "outputId": "9af6dea8-2f65-426b-bd72-cd7a6e399c4d"
      },
      "execution_count": null,
      "outputs": [
        {
          "output_type": "stream",
          "name": "stdout",
          "text": [
            "Type: Sedan, Brand: Tesla, Battery: 100 kWh\n"
          ]
        }
      ]
    },
    {
      "cell_type": "markdown",
      "source": [
        "4. What is polymorphism? Show an example using Bird, Sparrow, and Penguin classes."
      ],
      "metadata": {
        "id": "fszxWrvKO8Q8"
      }
    },
    {
      "cell_type": "code",
      "source": [
        "class Bird:\n",
        "    def fly(self):\n",
        "        print(\"Some birds can fly.\")\n",
        "\n",
        "class Sparrow(Bird):\n",
        "    def fly(self):\n",
        "        print(\"Sparrow flies high!\")\n",
        "\n",
        "class Penguin(Bird):\n",
        "    def fly(self):\n",
        "        print(\"Penguins can't fly, they swim!\")\n",
        "\n",
        "birds = [Sparrow(), Penguin()]\n",
        "for bird in birds:\n",
        "    bird.fly()\n"
      ],
      "metadata": {
        "colab": {
          "base_uri": "https://localhost:8080/"
        },
        "id": "VmVGoBztO6Gk",
        "outputId": "82ccc450-d8cd-4b9a-b99d-43dae3eaa71e"
      },
      "execution_count": null,
      "outputs": [
        {
          "output_type": "stream",
          "name": "stdout",
          "text": [
            "Sparrow flies high!\n",
            "Penguins can't fly, they swim!\n"
          ]
        }
      ]
    },
    {
      "cell_type": "markdown",
      "source": [
        "5. What is encapsulation? Show an example using the BankAccount class."
      ],
      "metadata": {
        "id": "IPOfTj3SPAvd"
      }
    },
    {
      "cell_type": "code",
      "source": [
        "class BankAccount:\n",
        "    def __init__(self, balance=0):\n",
        "        self.__balance = balance\n",
        "\n",
        "    def deposit(self, amount):\n",
        "        if amount > 0:\n",
        "            self.__balance += amount\n",
        "            print(f\"Deposited: {amount}\")\n",
        "        else:\n",
        "            print(\"Deposit amount must be positive.\")\n",
        "\n",
        "    def withdraw(self, amount):\n",
        "        if 0 < amount <= self.__balance:\n",
        "            self.__balance -= amount\n",
        "            print(f\"Withdrawn: {amount}\")\n",
        "        else:\n",
        "            print(\"Insufficient balance or invalid amount.\")\n",
        "\n",
        "    def get_balance(self):\n",
        "        return self.__balance\n",
        "\n",
        "account = BankAccount(1000)\n",
        "account.deposit(500)\n",
        "account.withdraw(300)\n",
        "print(\"Current Balance:\", account.get_balance())\n"
      ],
      "metadata": {
        "colab": {
          "base_uri": "https://localhost:8080/"
        },
        "id": "4l01-6-mO-bf",
        "outputId": "49679e8a-312c-40ce-b6b3-5dd39886b0af"
      },
      "execution_count": null,
      "outputs": [
        {
          "output_type": "stream",
          "name": "stdout",
          "text": [
            "Deposited: 500\n",
            "Withdrawn: 300\n",
            "Current Balance: 1200\n"
          ]
        }
      ]
    },
    {
      "cell_type": "markdown",
      "source": [
        "6. Demonstrate runtime polymorphism using a method play() in a base class Instrument. Derive classes Guitar and Piano that implement their own version of play()."
      ],
      "metadata": {
        "id": "couMHYJxPE6m"
      }
    },
    {
      "cell_type": "code",
      "source": [
        "class Instrument:\n",
        "    def play(self):\n",
        "        print(\"Instrument is playing.\")\n",
        "\n",
        "class Guitar(Instrument):\n",
        "    def play(self):\n",
        "        print(\"Playing the Guitar.\")\n",
        "\n",
        "class Piano(Instrument):\n",
        "    def play(self):\n",
        "        print(\"Playing the Piano.\")\n",
        "\n",
        "# Testing\n",
        "instruments = [Guitar(), Piano()]\n",
        "for instrument in instruments:\n",
        "    instrument.play()\n"
      ],
      "metadata": {
        "colab": {
          "base_uri": "https://localhost:8080/"
        },
        "id": "rP1jruwiPCx3",
        "outputId": "4d7d3b41-076a-4114-c9db-71245fa94552"
      },
      "execution_count": null,
      "outputs": [
        {
          "output_type": "stream",
          "name": "stdout",
          "text": [
            "Playing the Guitar.\n",
            "Playing the Piano.\n"
          ]
        }
      ]
    },
    {
      "cell_type": "markdown",
      "source": [
        "7. Create a class MathOperations with a class method add_numbers() to add two numbers and a static method subtract_numbers() to subtract two numbers."
      ],
      "metadata": {
        "id": "HMlVhjMpPbQc"
      }
    },
    {
      "cell_type": "code",
      "source": [
        "class MathOperations:\n",
        "    @classmethod\n",
        "    def add_numbers(cls, a, b):\n",
        "        return a + b\n",
        "\n",
        "    @staticmethod\n",
        "    def subtract_numbers(a, b):\n",
        "        return a - b\n",
        "\n",
        "# Testing\n",
        "print(MathOperations.add_numbers(5, 3))\n",
        "print(MathOperations.subtract_numbers(10, 4))\n"
      ],
      "metadata": {
        "colab": {
          "base_uri": "https://localhost:8080/"
        },
        "id": "1pO0OI8bPagD",
        "outputId": "5e36f554-b54b-4522-be0a-bf39c06447d5"
      },
      "execution_count": null,
      "outputs": [
        {
          "output_type": "stream",
          "name": "stdout",
          "text": [
            "8\n",
            "6\n"
          ]
        }
      ]
    },
    {
      "cell_type": "markdown",
      "source": [
        "8. Implement a class Person with a class method to count the total number of persons created."
      ],
      "metadata": {
        "id": "qWoq6eOfPf7j"
      }
    },
    {
      "cell_type": "code",
      "source": [
        "class Person:\n",
        "    count = 0\n",
        "\n",
        "    def __init__(self, name):\n",
        "        self.name = name\n",
        "        Person.count += 1\n",
        "\n",
        "    @classmethod\n",
        "    def total_persons(cls):\n",
        "        return cls.count\n",
        "\n",
        "# Testing\n",
        "p1 = Person(\"Alice\")\n",
        "p2 = Person(\"Bob\")\n",
        "p3 = Person(\"Charlie\")\n",
        "print(Person.total_persons())\n"
      ],
      "metadata": {
        "colab": {
          "base_uri": "https://localhost:8080/"
        },
        "id": "0Fbp_O14PeL0",
        "outputId": "7f96c104-a98f-4ba0-9f8e-d23af298c42d"
      },
      "execution_count": null,
      "outputs": [
        {
          "output_type": "stream",
          "name": "stdout",
          "text": [
            "3\n"
          ]
        }
      ]
    },
    {
      "cell_type": "markdown",
      "source": [
        "9. Write a class Fraction with attributes numerator and denominator. Override the __str__ method to display the fraction as \"numerator/denominator\"."
      ],
      "metadata": {
        "id": "RbCLPTDlPk8j"
      }
    },
    {
      "cell_type": "code",
      "source": [
        "class Fraction:\n",
        "    def __init__(self, numerator, denominator):\n",
        "        self.numerator = numerator\n",
        "        self.denominator = denominator\n",
        "\n",
        "    def __str__(self):\n",
        "        return f\"{self.numerator}/{self.denominator}\"\n",
        "\n",
        "# Testing\n",
        "f = Fraction(3, 4)\n",
        "print(f)\n"
      ],
      "metadata": {
        "colab": {
          "base_uri": "https://localhost:8080/"
        },
        "id": "KpmSdPCsPhUp",
        "outputId": "a668c296-cc10-46e8-e263-e9c9a7b4b3e8"
      },
      "execution_count": null,
      "outputs": [
        {
          "output_type": "stream",
          "name": "stdout",
          "text": [
            "3/4\n"
          ]
        }
      ]
    },
    {
      "cell_type": "markdown",
      "source": [
        "10. Demonstrate operator overloading by creating a class Vector and overriding the + method to add two vectors."
      ],
      "metadata": {
        "id": "qHypVdSJPonj"
      }
    },
    {
      "cell_type": "code",
      "source": [
        "class Vector:\n",
        "    def __init__(self, x, y):\n",
        "        self.x = x\n",
        "        self.y = y\n",
        "\n",
        "    def __add__(self, other):\n",
        "        return Vector(self.x + other.x, self.y + other.y)\n",
        "\n",
        "    def __str__(self):\n",
        "        return f\"({self.x}, {self.y})\"\n",
        "\n",
        "# Testing\n",
        "v1 = Vector(2, 3)\n",
        "v2 = Vector(4, 5)\n",
        "v3 = v1 + v2\n",
        "print(v3)\n"
      ],
      "metadata": {
        "colab": {
          "base_uri": "https://localhost:8080/"
        },
        "id": "1TPCl2iqPmgs",
        "outputId": "77a76e05-9150-4a26-93ef-342516aaab9b"
      },
      "execution_count": null,
      "outputs": [
        {
          "output_type": "stream",
          "name": "stdout",
          "text": [
            "(6, 8)\n"
          ]
        }
      ]
    },
    {
      "cell_type": "markdown",
      "source": [
        "11. Create a class Person with attributes name and age. Add a method greet() that prints \"Hello, my name is {name} and I am {age} years old.\""
      ],
      "metadata": {
        "id": "Pl2PNP68Pq1z"
      }
    },
    {
      "cell_type": "code",
      "source": [
        "class Person:\n",
        "    def __init__(self, name, age):\n",
        "        self.name = name\n",
        "        self.age = age\n",
        "\n",
        "    def greet(self):\n",
        "        print(f\"Hello, my name is {self.name} and I am {self.age} years old.\")\n",
        "\n",
        "p = Person(\"Alice\", 25)\n",
        "p.greet()\n"
      ],
      "metadata": {
        "colab": {
          "base_uri": "https://localhost:8080/"
        },
        "id": "PJ-jXvSkPqJO",
        "outputId": "87c98933-3945-4949-d9d7-1e139e2980c2"
      },
      "execution_count": null,
      "outputs": [
        {
          "output_type": "stream",
          "name": "stdout",
          "text": [
            "Hello, my name is Alice and I am 25 years old.\n"
          ]
        }
      ]
    },
    {
      "cell_type": "markdown",
      "source": [
        "12. Implement a class Student with attributes name and grades. Create a method average_grade() to compute the average of the grades."
      ],
      "metadata": {
        "id": "k8eyda6TP_HS"
      }
    },
    {
      "cell_type": "code",
      "source": [
        "class Student:\n",
        "    def __init__(self, name, grades):\n",
        "        self.name = name\n",
        "        self.grades = grades\n",
        "\n",
        "    def average_grade(self):\n",
        "        return sum(self.grades) / len(self.grades)\n",
        "\n",
        "s = Student(\"Bob\", [85, 90, 78])\n",
        "print(\"Average Grade:\", s.average_grade())\n"
      ],
      "metadata": {
        "colab": {
          "base_uri": "https://localhost:8080/"
        },
        "id": "d0MMQVGCP9tq",
        "outputId": "1ca6f5b8-f1fc-4fa1-9381-d75fe2d62bca"
      },
      "execution_count": null,
      "outputs": [
        {
          "output_type": "stream",
          "name": "stdout",
          "text": [
            "Average Grade: 84.33333333333333\n"
          ]
        }
      ]
    },
    {
      "cell_type": "markdown",
      "source": [
        "13. Create a class Rectangle with methods set_dimensions() to set the dimensions and area() to calculate the area."
      ],
      "metadata": {
        "id": "EjLjCzyYQBua"
      }
    },
    {
      "cell_type": "code",
      "source": [
        "class Rectangle:\n",
        "    def __init__(self):\n",
        "        self.length = 0\n",
        "        self.width = 0\n",
        "\n",
        "    def set_dimensions(self, length, width):\n",
        "        self.length = length\n",
        "        self.width = width\n",
        "\n",
        "    def area(self):\n",
        "        return self.length * self.width\n",
        "\n",
        "rect = Rectangle()\n",
        "rect.set_dimensions(5, 3)\n",
        "print(\"Rectangle Area:\", rect.area())\n"
      ],
      "metadata": {
        "colab": {
          "base_uri": "https://localhost:8080/"
        },
        "id": "xl04MK2QQATc",
        "outputId": "69ea4c7a-49a6-4cad-834c-4edf659be881"
      },
      "execution_count": null,
      "outputs": [
        {
          "output_type": "stream",
          "name": "stdout",
          "text": [
            "Rectangle Area: 15\n"
          ]
        }
      ]
    },
    {
      "cell_type": "markdown",
      "source": [
        "14. Create a class Employee with a method calculate_salary() that computes the salary based on hours worked and hourly rate. Create a derived class Manager that adds a bonus to the salary."
      ],
      "metadata": {
        "id": "TinkVAkSQEuy"
      }
    },
    {
      "cell_type": "code",
      "source": [
        "class Employee:\n",
        "    def __init__(self, hours_worked, hourly_rate):\n",
        "        self.hours_worked = hours_worked\n",
        "        self.hourly_rate = hourly_rate\n",
        "\n",
        "    def calculate_salary(self):\n",
        "        return self.hours_worked * self.hourly_rate\n",
        "\n",
        "class Manager(Employee):\n",
        "    def __init__(self, hours_worked, hourly_rate, bonus):\n",
        "        super().__init__(hours_worked, hourly_rate)\n",
        "        self.bonus = bonus\n",
        "\n",
        "    def calculate_salary(self):\n",
        "        return super().calculate_salary() + self.bonus\n",
        "\n",
        "emp = Employee(40, 20)\n",
        "mgr = Manager(40, 20, 500)\n",
        "print(\"Employee Salary:\", emp.calculate_salary())\n",
        "print(\"Manager Salary:\", mgr.calculate_salary())\n"
      ],
      "metadata": {
        "colab": {
          "base_uri": "https://localhost:8080/"
        },
        "id": "Wvt7rCOuQDG7",
        "outputId": "998a5e14-674a-4eee-b771-4e5b14216e5d"
      },
      "execution_count": null,
      "outputs": [
        {
          "output_type": "stream",
          "name": "stdout",
          "text": [
            "Employee Salary: 800\n",
            "Manager Salary: 1300\n"
          ]
        }
      ]
    },
    {
      "cell_type": "markdown",
      "source": [
        "15. Create a class Product with attributes name, price, and quantity. Implement a method total_price() that calculates the total price of the product."
      ],
      "metadata": {
        "id": "kZihgr5fQHQC"
      }
    },
    {
      "cell_type": "code",
      "source": [
        "class Product:\n",
        "    def __init__(self, name, price, quantity):\n",
        "        self.name = name\n",
        "        self.price = price\n",
        "        self.quantity = quantity\n",
        "\n",
        "    def total_price(self):\n",
        "        return self.price * self.quantity\n",
        "\n",
        "p = Product(\"Laptop\", 800, 2)\n",
        "print(\"Total Price:\", p.total_price())\n"
      ],
      "metadata": {
        "colab": {
          "base_uri": "https://localhost:8080/"
        },
        "id": "Hn8LVztaQGBH",
        "outputId": "98f478de-b74b-4c8c-c7ae-0f3db71f5d29"
      },
      "execution_count": null,
      "outputs": [
        {
          "output_type": "stream",
          "name": "stdout",
          "text": [
            "Total Price: 1600\n"
          ]
        }
      ]
    },
    {
      "cell_type": "markdown",
      "source": [
        "16. Create a class Animal with an abstract method sound(). Create two derived classes Cow and Sheep that implement the sound() method."
      ],
      "metadata": {
        "id": "GyxHxhObQRNJ"
      }
    },
    {
      "cell_type": "code",
      "source": [
        "from abc import ABC, abstractmethod\n",
        "\n",
        "class Animal(ABC):\n",
        "    @abstractmethod\n",
        "    def sound(self):\n",
        "        pass\n",
        "\n",
        "class Cow(Animal):\n",
        "    def sound(self):\n",
        "        print(\"Moo!\")\n",
        "\n",
        "class Sheep(Animal):\n",
        "    def sound(self):\n",
        "        print(\"Baa!\")\n",
        "\n",
        "c = Cow()\n",
        "c.sound()\n",
        "\n",
        "s = Sheep()\n",
        "s.sound()\n"
      ],
      "metadata": {
        "colab": {
          "base_uri": "https://localhost:8080/"
        },
        "id": "CiihW20pQP1H",
        "outputId": "67529c99-d93e-4639-cbba-288d537ee534"
      },
      "execution_count": null,
      "outputs": [
        {
          "output_type": "stream",
          "name": "stdout",
          "text": [
            "Moo!\n",
            "Baa!\n"
          ]
        }
      ]
    },
    {
      "cell_type": "markdown",
      "source": [
        "17. Create a class Book with attributes title, author, and year_published. Add a method get_book_info() that returns a formatted string with the book's details."
      ],
      "metadata": {
        "id": "pfuUtrkFQUWJ"
      }
    },
    {
      "cell_type": "code",
      "source": [
        "class Book:\n",
        "    def __init__(self, title, author, year_published):\n",
        "        self.title = title\n",
        "        self.author = author\n",
        "        self.year_published = year_published\n",
        "\n",
        "    def get_book_info(self):\n",
        "        return f\"'{self.title}' by {self.author}, published in {self.year_published}.\"\n",
        "\n",
        "b = Book(\"1984\", \"George Orwell\", 1949)\n",
        "print(b.get_book_info())\n"
      ],
      "metadata": {
        "colab": {
          "base_uri": "https://localhost:8080/"
        },
        "id": "XCweWp9BQSaI",
        "outputId": "84512ad7-79df-4487-da25-e779d4b45b53"
      },
      "execution_count": null,
      "outputs": [
        {
          "output_type": "stream",
          "name": "stdout",
          "text": [
            "'1984' by George Orwell, published in 1949.\n"
          ]
        }
      ]
    },
    {
      "cell_type": "markdown",
      "source": [
        "18. Create a class House with attributes address and price. Create a derived class Mansion that adds an attribute number_of_rooms."
      ],
      "metadata": {
        "id": "dIlfTwrOQXzp"
      }
    },
    {
      "cell_type": "code",
      "source": [
        "class House:\n",
        "    def __init__(self, address, price):\n",
        "        self.address = address\n",
        "        self.price = price\n",
        "\n",
        "class Mansion(House):\n",
        "    def __init__(self, address, price, number_of_rooms):\n",
        "        super().__init__(address, price)\n",
        "        self.number_of_rooms = number_of_rooms\n",
        "\n",
        "m = Mansion(\"123 Luxury St\", 5000000, 10)\n",
        "print(f\"Address: {m.address}, Price: ${m.price}, Rooms: {m.number_of_rooms}\")\n"
      ],
      "metadata": {
        "colab": {
          "base_uri": "https://localhost:8080/"
        },
        "id": "PkAWq7T5QVl5",
        "outputId": "95781160-e659-4aa9-f883-b7727bd2bc93"
      },
      "execution_count": null,
      "outputs": [
        {
          "output_type": "stream",
          "name": "stdout",
          "text": [
            "Address: 123 Luxury St, Price: $5000000, Rooms: 10\n"
          ]
        }
      ]
    }
  ]
}